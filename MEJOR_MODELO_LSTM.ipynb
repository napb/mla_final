{
 "cells": [
  {
   "cell_type": "code",
   "execution_count": 79,
   "metadata": {
    "id": "MRSliBjtXsTJ",
    "outputId": "9d48c88c-5a08-4302-d215-068f25e80ef7"
   },
   "outputs": [],
   "source": [
    "# Importo las bibliotecas a utilizar\n",
    "import numpy\n",
    "import matplotlib.pyplot as plt\n",
    "import pandas\n",
    "from keras.models import Sequential\n",
    "from keras.layers import Dense\n",
    "from keras.layers import LSTM\n",
    "import keras\n",
    "from sklearn.preprocessing import MinMaxScaler\n",
    "from sklearn.model_selection import KFold\n",
    "import argparse"
   ]
  },
  {
   "cell_type": "code",
   "execution_count": 80,
   "metadata": {
    "id": "7ng335-VXsTM"
   },
   "outputs": [],
   "source": [
    "numpy.random.seed(7)"
   ]
  },
  {
   "cell_type": "code",
   "execution_count": 81,
   "metadata": {
    "id": "Yc-JaWOQXsTM"
   },
   "outputs": [],
   "source": [
    "def create_dataset(dataset, look_back=1):\n",
    "    \"\"\"\n",
    "    Se generan los instantes en tiempos t hacia atras\n",
    "    para lograr predecir el instante t\n",
    "\n",
    "    :param dataset: conjunto de datos completos\n",
    "    :param look_back: cuantos instantes de tiempo t hacia atras seran utilizados\n",
    "    :return: una matriz con los instantes de tiempo hacia atras y el instante presente\n",
    "    \"\"\"\n",
    "\n",
    "    dataX = []\n",
    "    dataY = []\n",
    "    for i in range(len(dataset)-look_back):\n",
    "        a = dataset[i:(i+look_back), 0]\n",
    "        dataX.append(a)\n",
    "        dataY.append(dataset[i + look_back, 0])\n",
    "    return numpy.array(dataX), numpy.array(dataY)"
   ]
  },
  {
   "cell_type": "code",
   "execution_count": 82,
   "metadata": {
    "id": "UzX9mCLXXsTN"
   },
   "outputs": [],
   "source": [
    "def remuestre(cantidad, dataframe):\n",
    "    \"\"\"\n",
    "    Se hace un re muestreo en el dataframe disminuyendo la cantidad total\n",
    "    de datos\n",
    "    :param cantidad: cantidad de datos que seran promediados\n",
    "    :param dataframe: el dataframe con el que se esta trabajando\n",
    "    :return: dataframe: es el dataframe ya remuestrado\n",
    "    \"\"\"\n",
    "    suma = 0\n",
    "    contador = 0\n",
    "    eliminar = []\n",
    "    for i in range(len(dataframe)):\n",
    "        contador += 1\n",
    "        suma += dataframe.loc[i]\n",
    "        if (contador == cantidad):\n",
    "            dataframe.loc[i] = suma / cantidad\n",
    "            contador = 0\n",
    "            suma = 0\n",
    "        else:\n",
    "            eliminar.append(i)\n",
    "    dataframe = dataframe.drop(dataframe.index[eliminar])\n",
    "    return dataframe"
   ]
  },
  {
   "cell_type": "code",
   "execution_count": 83,
   "metadata": {
    "id": "4TW24da4XsTO"
   },
   "outputs": [],
   "source": [
    "def execute_lstm(unidades, date, look_back, neuronas, epocas, capas='6', training_split=0.67,optimizacion='adam', act='tanh'):    \n",
    "    \"\"\"\n",
    "    función que reune la lógica de construcción, entrenamiento y test de la red recurrente LSTM\n",
    "    \"\"\"\n",
    "    \n",
    "    # normalizacion del dataset\n",
    "    scaler = MinMaxScaler(feature_range=(0, 1))\n",
    "    unidades = scaler.fit_transform(unidades)\n",
    "    date = scaler.fit_transform(date)\n",
    "\n",
    "    keras.callbacks.Callback()\n",
    "    train_size = int(len(date) * training_split)\n",
    "    test_size = len(date) - train_size\n",
    "    date_train, date_test = date[0:train_size, :], date[train_size:len(date), :]\n",
    "    unidades_train, unidades_test = unidades[0:train_size, :], unidades[train_size:len(unidades), :]\n",
    "    print(len(date_train), len(unidades_test))\n",
    "\n",
    "    date_train_lookback, date_train_tiempo_actual = create_dataset(date_train, look_back)  # date_train_lookback es la presion Entrenamiento\n",
    "    date_test_lookback, date_test_tiempo_actual = create_dataset(date_test, look_back)  # date_test_lookback es la presion de test\n",
    "    unidades_train_lookback, unidades_train_tiempo_actual = create_dataset(unidades_train, look_back)  # unidades_train_tiempo_actual autorregulacion de entrenamiento\n",
    "    unidades_test_lookback, unidades_test_tiempo_actual = create_dataset(unidades_test, look_back)  # unidades_test_tiempo_actual autorregulacion de test\n",
    "\n",
    "    #transformacion necesaria, para ser utilizados los datos para entrar a la red neuronal\n",
    "    date_train_lookback = numpy.reshape(date_train_lookback, (date_train_lookback.shape[0], 1, date_train_lookback.shape[1]))\n",
    "    date_test_lookback = numpy.reshape(date_test_lookback, (date_test_lookback.shape[0], 1, date_test_lookback.shape[1]))\n",
    "\n",
    "    # create and fit the LSTM network\n",
    "    csv_logger = keras.callbacks.CSVLogger('training.log', separator=',', append=False)\n",
    "    model = Sequential()\n",
    "    model.add(LSTM(neuronas, return_sequences = True, input_shape=(1, look_back)))\n",
    "    for i in range(capas):\n",
    "        model.add(LSTM(neuronas, return_sequences = True, activation=act))\n",
    "    model.add(LSTM(neuronas))\n",
    "    model.add(Dense(1, activation=act))\n",
    "    model.compile(loss='mean_squared_error', optimizer=optimizacion)\n",
    "    model.fit(date_train_lookback, unidades_train_tiempo_actual, epochs=epocas, batch_size=32, verbose=2, callbacks=[csv_logger])\n",
    "\n",
    "    trainPredict = model.predict(date_train_lookback)\n",
    "    testPredict = model.predict(date_test_lookback)\n",
    "\n",
    "    corr = numpy.corrcoef(unidades_test_tiempo_actual, testPredict[:, 0])\n",
    "    print('Test Score: %.2f CORRELACION' % (corr[1][0]))\n",
    "\n",
    "    trainPredictPlot = numpy.empty_like(unidades)\n",
    "    trainPredictPlot[:, :] = numpy.nan\n",
    "    trainPredictPlot[look_back:len(trainPredict) + look_back, :] = trainPredict\n",
    "\n",
    "    testPredictPlot = numpy.empty_like(unidades)\n",
    "    testPredictPlot[:, :] = numpy.nan\n",
    "    testPredictPlot[len(trainPredict) + (look_back * 2) - 1 :len(unidades) - 1, :] = testPredict\n",
    "\n",
    "    plt.plot(unidades)\n",
    "    plt.plot(trainPredictPlot)\n",
    "    plt.plot(testPredictPlot)\n",
    "    plt.title(\"LSTM con %i neuronas, correlacion: %.2f\" % (neuronas, corr[1][0] * 100))\n",
    "    plt.ylabel(\"Unidades de Carne Vendidas\")\n",
    "    plt.xlabel(\"Tiempo\")\n",
    "    plt.show()\n",
    "\n",
    "    registro = pandas.read_csv('training.log', sep=\",\")\n",
    "    plt.plot(registro[\"epoch\"].values, registro[\"loss\"].values)\n",
    "    plt.title(\"Error LSTM con %i neuronas, correlacion: %.2f\" % (neuronas, corr[1][0] * 100))\n",
    "    plt.ylabel(\"Error\")\n",
    "    plt.xlabel(\"Epocas\")\n",
    "    plt.show()\n",
    "    \n",
    "    return model, trainPredict, testPredict, scaler\n",
    "\n",
    "\n",
    "\n"
   ]
  },
  {
   "cell_type": "code",
   "execution_count": 84,
   "metadata": {
    "id": "ErwcEtdaXsTP"
   },
   "outputs": [],
   "source": [
    "# TRATAMIENTO DE DATOS\n",
    "data = pandas.read_csv('data/DATOS_TRATADOS_CON_FECHAS_INT.csv')"
   ]
  },
  {
   "cell_type": "code",
   "execution_count": 85,
   "metadata": {
    "id": "s_VNSGMHXsTQ"
   },
   "outputs": [],
   "source": [
    "unidades = pandas.DataFrame(data['UNIDADES'])\n",
    "unidades = unidades.values\n",
    "unidades = unidades.astype('float32')\n",
    "\n",
    "date = pandas.DataFrame(data[\"DIA_SEMANA\"])\n",
    "date['DIA'] = data[\"DIA\"]\n",
    "date['ANO'] = data[\"ANO\"]\n",
    "date['MES'] = data[\"MES\"]\n",
    "date['FECHAS_IMPORT']=data[\"FECHAS_IMPORT\"]\n",
    "date = date.values\n",
    "date = date.astype('float32')"
   ]
  },
  {
   "cell_type": "markdown",
   "metadata": {
    "id": "3mU80jbHXsTS"
   },
   "source": [
    "## ARQUITECTURA NEURONAL \n",
    "- Ventana de tiempo (look_back) de 3 meses\n",
    "- 200 neuronas\n",
    "- 200 epocas de entrenamiento\n",
    "- Función de optimización adam\n",
    "- Función de activación tanh\n",
    "- Entrenamiento y test: \n",
    "    - Validación cruzada 70% - 30%\n",
    "\n",
    "### Resultado:\n",
    "- Correlación de un 42.35%\n",
    "- Modelo:\n",
    "![image.png](attachment:image.png)"
   ]
  },
  {
   "cell_type": "markdown",
   "metadata": {
    "id": "6wRDmfMCXsTT"
   },
   "source": [
    "- Error:\n",
    "![image.png](attachment:image.png)"
   ]
  },
  {
   "cell_type": "code",
   "execution_count": 86,
   "metadata": {
    "id": "N52hVBA9XsTT",
    "outputId": "5a6e42ec-ab89-41c0-ec30-0948f23813ff"
   },
   "outputs": [],
   "source": [
    "## EJECUCIÓN DE LA FUNCIÓN DE CONSTRUCCIÓN, ENTRENAMIENTO Y TEST DE LA RED\n",
    "#execute_lstm(unidades, date, look_back=90, neuronas=200, epocas=200, capas=6, training_split=0.7,optimizacion='adam', act='tanh')"
   ]
  },
  {
   "cell_type": "markdown",
   "metadata": {
    "id": "78VUGMFsXsTU"
   },
   "source": [
    "## ARQUITECTURA NEURONAL \n",
    "- Ventana de tiempo (look_back) de 6 meses\n",
    "- 200 neuronas\n",
    "- 200 epocas de entrenamiento\n",
    "- Función de optimización adam\n",
    "- Función de activación tanh\n",
    "- Entrenamiento y test: \n",
    "    - Validación cruzada 70% - 30%\n",
    "\n",
    "### Resultado:\n",
    "- Correlación de un 49.20%\n",
    "- Modelo:\n",
    "![image.png](attachment:image.png)"
   ]
  },
  {
   "cell_type": "markdown",
   "metadata": {
    "id": "t-Qu2fkWXsTU"
   },
   "source": [
    "- Error: \n",
    "![image.png](attachment:image.png)"
   ]
  },
  {
   "cell_type": "code",
   "execution_count": 87,
   "metadata": {
    "id": "T_3pRFN_XsTV",
    "outputId": "dcc3ee49-ce39-4645-9516-97d034ea22e7"
   },
   "outputs": [],
   "source": [
    "## EJECUCIÓN DE LA FUNCIÓN DE CONSTRUCCIÓN, ENTRENAMIENTO Y TEST DE LA RED\n",
    "#execute_lstm(unidades, date, look_back=180, neuronas=200, epocas=200, capas=6, training_split=0.7,optimizacion='adam', act='tanh')\n",
    "\n",
    "## "
   ]
  },
  {
   "cell_type": "markdown",
   "metadata": {
    "id": "0c-eUXDOXsTV"
   },
   "source": [
    "## ARQUITECTURA NEURONAL \n",
    "- Ventana de tiempo (look_back) de 3 meses\n",
    "- 200 neuronas\n",
    "- 200 epocas de entrenamiento\n",
    "- Función de optimización adam\n",
    "- Función de activación tanh\n",
    "- Entrenamiento y test: \n",
    "    - Validación cruzada 70% - 30%\n",
    "\n",
    "### Resultado:\n",
    "- Correlación de un 27.31%\n",
    "- Modelo:\n",
    "![image.png](attachment:image.png)"
   ]
  },
  {
   "cell_type": "markdown",
   "metadata": {
    "id": "HZat1th8XsTW"
   },
   "source": [
    "- Error: \n",
    "![image.png](attachment:image.png)"
   ]
  },
  {
   "cell_type": "code",
   "execution_count": 88,
   "metadata": {
    "id": "m0_tPInQXsTW",
    "outputId": "3da7d7ac-0a9c-4d53-fff0-6efbfb62eabd"
   },
   "outputs": [],
   "source": [
    "## EJECUCIÓN DE LA FUNCIÓN DE CONSTRUCCIÓN, ENTRENAMIENTO Y TEST DE LA RED\n",
    "#execute_lstm(unidades, date, look_back=180, neuronas=300, epocas=300, capas=6, training_split=0.7,optimizacion='adam', act='tanh')\n",
    "##"
   ]
  },
  {
   "cell_type": "markdown",
   "metadata": {
    "id": "2742YFhmXsTW"
   },
   "source": [
    "## PREDICCIÓN\n",
    "- Haciendo uso del mejor modelo (de acuerdo a correlación y estabilidad) \n"
   ]
  },
  {
   "cell_type": "code",
   "execution_count": 89,
   "metadata": {
    "id": "xeclm245XsTX",
    "outputId": "531b89a1-d8d2-4c3a-f6ad-077972cae47c"
   },
   "outputs": [
    {
     "name": "stdout",
     "output_type": "stream",
     "text": [
      "685 294\n",
      "Epoch 1/200\n",
      "19/19 - 11s - loss: 0.0222 - 11s/epoch - 557ms/step\n",
      "Epoch 2/200\n",
      "19/19 - 0s - loss: 0.0182 - 354ms/epoch - 19ms/step\n",
      "Epoch 3/200\n",
      "19/19 - 1s - loss: 0.0177 - 522ms/epoch - 27ms/step\n",
      "Epoch 4/200\n",
      "19/19 - 0s - loss: 0.0177 - 458ms/epoch - 24ms/step\n",
      "Epoch 5/200\n",
      "19/19 - 0s - loss: 0.0177 - 425ms/epoch - 22ms/step\n",
      "Epoch 6/200\n",
      "19/19 - 0s - loss: 0.0177 - 472ms/epoch - 25ms/step\n",
      "Epoch 7/200\n",
      "19/19 - 0s - loss: 0.0178 - 409ms/epoch - 22ms/step\n",
      "Epoch 8/200\n",
      "19/19 - 0s - loss: 0.0177 - 369ms/epoch - 19ms/step\n",
      "Epoch 9/200\n",
      "19/19 - 0s - loss: 0.0177 - 237ms/epoch - 12ms/step\n",
      "Epoch 10/200\n",
      "19/19 - 0s - loss: 0.0177 - 225ms/epoch - 12ms/step\n",
      "Epoch 11/200\n",
      "19/19 - 0s - loss: 0.0177 - 232ms/epoch - 12ms/step\n",
      "Epoch 12/200\n",
      "19/19 - 0s - loss: 0.0176 - 225ms/epoch - 12ms/step\n",
      "Epoch 13/200\n",
      "19/19 - 0s - loss: 0.0177 - 231ms/epoch - 12ms/step\n",
      "Epoch 14/200\n",
      "19/19 - 0s - loss: 0.0178 - 226ms/epoch - 12ms/step\n",
      "Epoch 15/200\n",
      "19/19 - 0s - loss: 0.0177 - 235ms/epoch - 12ms/step\n",
      "Epoch 16/200\n",
      "19/19 - 0s - loss: 0.0178 - 227ms/epoch - 12ms/step\n",
      "Epoch 17/200\n",
      "19/19 - 0s - loss: 0.0177 - 222ms/epoch - 12ms/step\n",
      "Epoch 18/200\n",
      "19/19 - 0s - loss: 0.0178 - 234ms/epoch - 12ms/step\n",
      "Epoch 19/200\n",
      "19/19 - 0s - loss: 0.0177 - 237ms/epoch - 12ms/step\n",
      "Epoch 20/200\n",
      "19/19 - 0s - loss: 0.0177 - 233ms/epoch - 12ms/step\n",
      "Epoch 21/200\n",
      "19/19 - 0s - loss: 0.0177 - 222ms/epoch - 12ms/step\n",
      "Epoch 22/200\n",
      "19/19 - 0s - loss: 0.0177 - 232ms/epoch - 12ms/step\n",
      "Epoch 23/200\n",
      "19/19 - 0s - loss: 0.0176 - 226ms/epoch - 12ms/step\n",
      "Epoch 24/200\n",
      "19/19 - 0s - loss: 0.0176 - 234ms/epoch - 12ms/step\n",
      "Epoch 25/200\n",
      "19/19 - 0s - loss: 0.0177 - 222ms/epoch - 12ms/step\n",
      "Epoch 26/200\n",
      "19/19 - 0s - loss: 0.0177 - 232ms/epoch - 12ms/step\n",
      "Epoch 27/200\n",
      "19/19 - 0s - loss: 0.0178 - 221ms/epoch - 12ms/step\n",
      "Epoch 28/200\n",
      "19/19 - 0s - loss: 0.0177 - 225ms/epoch - 12ms/step\n",
      "Epoch 29/200\n",
      "19/19 - 0s - loss: 0.0176 - 233ms/epoch - 12ms/step\n",
      "Epoch 30/200\n",
      "19/19 - 0s - loss: 0.0177 - 224ms/epoch - 12ms/step\n",
      "Epoch 31/200\n",
      "19/19 - 0s - loss: 0.0177 - 233ms/epoch - 12ms/step\n",
      "Epoch 32/200\n",
      "19/19 - 0s - loss: 0.0176 - 223ms/epoch - 12ms/step\n",
      "Epoch 33/200\n",
      "19/19 - 0s - loss: 0.0177 - 232ms/epoch - 12ms/step\n",
      "Epoch 34/200\n",
      "19/19 - 0s - loss: 0.0177 - 220ms/epoch - 12ms/step\n",
      "Epoch 35/200\n",
      "19/19 - 0s - loss: 0.0177 - 230ms/epoch - 12ms/step\n",
      "Epoch 36/200\n",
      "19/19 - 0s - loss: 0.0177 - 222ms/epoch - 12ms/step\n",
      "Epoch 37/200\n",
      "19/19 - 0s - loss: 0.0176 - 234ms/epoch - 12ms/step\n",
      "Epoch 38/200\n",
      "19/19 - 0s - loss: 0.0179 - 223ms/epoch - 12ms/step\n",
      "Epoch 39/200\n",
      "19/19 - 0s - loss: 0.0178 - 223ms/epoch - 12ms/step\n",
      "Epoch 40/200\n",
      "19/19 - 0s - loss: 0.0177 - 223ms/epoch - 12ms/step\n",
      "Epoch 41/200\n",
      "19/19 - 0s - loss: 0.0177 - 239ms/epoch - 13ms/step\n",
      "Epoch 42/200\n",
      "19/19 - 0s - loss: 0.0179 - 232ms/epoch - 12ms/step\n",
      "Epoch 43/200\n",
      "19/19 - 0s - loss: 0.0177 - 224ms/epoch - 12ms/step\n",
      "Epoch 44/200\n",
      "19/19 - 0s - loss: 0.0177 - 230ms/epoch - 12ms/step\n",
      "Epoch 45/200\n",
      "19/19 - 0s - loss: 0.0177 - 222ms/epoch - 12ms/step\n",
      "Epoch 46/200\n",
      "19/19 - 0s - loss: 0.0177 - 234ms/epoch - 12ms/step\n",
      "Epoch 47/200\n",
      "19/19 - 0s - loss: 0.0177 - 225ms/epoch - 12ms/step\n",
      "Epoch 48/200\n",
      "19/19 - 0s - loss: 0.0177 - 234ms/epoch - 12ms/step\n",
      "Epoch 49/200\n",
      "19/19 - 0s - loss: 0.0177 - 222ms/epoch - 12ms/step\n",
      "Epoch 50/200\n",
      "19/19 - 0s - loss: 0.0176 - 228ms/epoch - 12ms/step\n",
      "Epoch 51/200\n",
      "19/19 - 0s - loss: 0.0177 - 227ms/epoch - 12ms/step\n",
      "Epoch 52/200\n",
      "19/19 - 0s - loss: 0.0177 - 223ms/epoch - 12ms/step\n",
      "Epoch 53/200\n",
      "19/19 - 0s - loss: 0.0177 - 229ms/epoch - 12ms/step\n",
      "Epoch 54/200\n",
      "19/19 - 0s - loss: 0.0176 - 222ms/epoch - 12ms/step\n",
      "Epoch 55/200\n",
      "19/19 - 0s - loss: 0.0177 - 232ms/epoch - 12ms/step\n",
      "Epoch 56/200\n",
      "19/19 - 0s - loss: 0.0176 - 220ms/epoch - 12ms/step\n",
      "Epoch 57/200\n",
      "19/19 - 0s - loss: 0.0177 - 232ms/epoch - 12ms/step\n",
      "Epoch 58/200\n",
      "19/19 - 0s - loss: 0.0176 - 221ms/epoch - 12ms/step\n",
      "Epoch 59/200\n",
      "19/19 - 0s - loss: 0.0177 - 234ms/epoch - 12ms/step\n",
      "Epoch 60/200\n",
      "19/19 - 0s - loss: 0.0176 - 222ms/epoch - 12ms/step\n",
      "Epoch 61/200\n",
      "19/19 - 0s - loss: 0.0176 - 232ms/epoch - 12ms/step\n",
      "Epoch 62/200\n",
      "19/19 - 0s - loss: 0.0176 - 220ms/epoch - 12ms/step\n",
      "Epoch 63/200\n",
      "19/19 - 0s - loss: 0.0177 - 249ms/epoch - 13ms/step\n",
      "Epoch 64/200\n",
      "19/19 - 0s - loss: 0.0176 - 224ms/epoch - 12ms/step\n",
      "Epoch 65/200\n",
      "19/19 - 0s - loss: 0.0176 - 227ms/epoch - 12ms/step\n",
      "Epoch 66/200\n",
      "19/19 - 0s - loss: 0.0173 - 267ms/epoch - 14ms/step\n",
      "Epoch 67/200\n",
      "19/19 - 0s - loss: 0.0171 - 231ms/epoch - 12ms/step\n",
      "Epoch 68/200\n",
      "19/19 - 0s - loss: 0.0156 - 268ms/epoch - 14ms/step\n",
      "Epoch 69/200\n",
      "19/19 - 0s - loss: 0.0159 - 222ms/epoch - 12ms/step\n",
      "Epoch 70/200\n",
      "19/19 - 0s - loss: 0.0153 - 232ms/epoch - 12ms/step\n",
      "Epoch 71/200\n",
      "19/19 - 0s - loss: 0.0150 - 240ms/epoch - 13ms/step\n",
      "Epoch 72/200\n",
      "19/19 - 0s - loss: 0.0149 - 258ms/epoch - 14ms/step\n",
      "Epoch 73/200\n",
      "19/19 - 0s - loss: 0.0150 - 221ms/epoch - 12ms/step\n",
      "Epoch 74/200\n",
      "19/19 - 0s - loss: 0.0151 - 257ms/epoch - 14ms/step\n",
      "Epoch 75/200\n",
      "19/19 - 0s - loss: 0.0146 - 348ms/epoch - 18ms/step\n",
      "Epoch 76/200\n",
      "19/19 - 0s - loss: 0.0149 - 410ms/epoch - 22ms/step\n",
      "Epoch 77/200\n",
      "19/19 - 0s - loss: 0.0146 - 234ms/epoch - 12ms/step\n",
      "Epoch 78/200\n",
      "19/19 - 0s - loss: 0.0145 - 232ms/epoch - 12ms/step\n",
      "Epoch 79/200\n",
      "19/19 - 0s - loss: 0.0141 - 413ms/epoch - 22ms/step\n",
      "Epoch 80/200\n",
      "19/19 - 0s - loss: 0.0145 - 259ms/epoch - 14ms/step\n",
      "Epoch 81/200\n",
      "19/19 - 0s - loss: 0.0150 - 226ms/epoch - 12ms/step\n",
      "Epoch 82/200\n",
      "19/19 - 0s - loss: 0.0149 - 255ms/epoch - 13ms/step\n",
      "Epoch 83/200\n",
      "19/19 - 0s - loss: 0.0143 - 233ms/epoch - 12ms/step\n",
      "Epoch 84/200\n",
      "19/19 - 0s - loss: 0.0144 - 238ms/epoch - 13ms/step\n",
      "Epoch 85/200\n",
      "19/19 - 0s - loss: 0.0141 - 233ms/epoch - 12ms/step\n",
      "Epoch 86/200\n",
      "19/19 - 0s - loss: 0.0141 - 238ms/epoch - 13ms/step\n",
      "Epoch 87/200\n",
      "19/19 - 0s - loss: 0.0137 - 363ms/epoch - 19ms/step\n",
      "Epoch 88/200\n",
      "19/19 - 0s - loss: 0.0140 - 351ms/epoch - 18ms/step\n",
      "Epoch 89/200\n",
      "19/19 - 0s - loss: 0.0135 - 318ms/epoch - 17ms/step\n",
      "Epoch 90/200\n",
      "19/19 - 0s - loss: 0.0136 - 287ms/epoch - 15ms/step\n",
      "Epoch 91/200\n",
      "19/19 - 0s - loss: 0.0141 - 260ms/epoch - 14ms/step\n",
      "Epoch 92/200\n",
      "19/19 - 0s - loss: 0.0143 - 229ms/epoch - 12ms/step\n",
      "Epoch 93/200\n",
      "19/19 - 0s - loss: 0.0138 - 227ms/epoch - 12ms/step\n",
      "Epoch 94/200\n",
      "19/19 - 0s - loss: 0.0137 - 243ms/epoch - 13ms/step\n",
      "Epoch 95/200\n",
      "19/19 - 0s - loss: 0.0133 - 233ms/epoch - 12ms/step\n",
      "Epoch 96/200\n",
      "19/19 - 0s - loss: 0.0133 - 238ms/epoch - 13ms/step\n",
      "Epoch 97/200\n",
      "19/19 - 0s - loss: 0.0144 - 220ms/epoch - 12ms/step\n",
      "Epoch 98/200\n",
      "19/19 - 0s - loss: 0.0138 - 215ms/epoch - 11ms/step\n",
      "Epoch 99/200\n",
      "19/19 - 0s - loss: 0.0128 - 217ms/epoch - 11ms/step\n",
      "Epoch 100/200\n",
      "19/19 - 0s - loss: 0.0127 - 216ms/epoch - 11ms/step\n",
      "Epoch 101/200\n",
      "19/19 - 0s - loss: 0.0125 - 243ms/epoch - 13ms/step\n",
      "Epoch 102/200\n",
      "19/19 - 0s - loss: 0.0131 - 248ms/epoch - 13ms/step\n",
      "Epoch 103/200\n",
      "19/19 - 0s - loss: 0.0126 - 263ms/epoch - 14ms/step\n",
      "Epoch 104/200\n",
      "19/19 - 0s - loss: 0.0128 - 221ms/epoch - 12ms/step\n",
      "Epoch 105/200\n",
      "19/19 - 0s - loss: 0.0122 - 222ms/epoch - 12ms/step\n",
      "Epoch 106/200\n",
      "19/19 - 0s - loss: 0.0122 - 222ms/epoch - 12ms/step\n",
      "Epoch 107/200\n",
      "19/19 - 0s - loss: 0.0130 - 234ms/epoch - 12ms/step\n",
      "Epoch 108/200\n",
      "19/19 - 0s - loss: 0.0118 - 234ms/epoch - 12ms/step\n",
      "Epoch 109/200\n",
      "19/19 - 0s - loss: 0.0117 - 219ms/epoch - 12ms/step\n",
      "Epoch 110/200\n",
      "19/19 - 0s - loss: 0.0121 - 279ms/epoch - 15ms/step\n",
      "Epoch 111/200\n",
      "19/19 - 0s - loss: 0.0121 - 263ms/epoch - 14ms/step\n",
      "Epoch 112/200\n",
      "19/19 - 0s - loss: 0.0115 - 243ms/epoch - 13ms/step\n",
      "Epoch 113/200\n",
      "19/19 - 0s - loss: 0.0115 - 313ms/epoch - 16ms/step\n",
      "Epoch 114/200\n",
      "19/19 - 0s - loss: 0.0112 - 280ms/epoch - 15ms/step\n",
      "Epoch 115/200\n",
      "19/19 - 0s - loss: 0.0117 - 290ms/epoch - 15ms/step\n",
      "Epoch 116/200\n",
      "19/19 - 0s - loss: 0.0113 - 237ms/epoch - 12ms/step\n",
      "Epoch 117/200\n",
      "19/19 - 0s - loss: 0.0115 - 307ms/epoch - 16ms/step\n",
      "Epoch 118/200\n",
      "19/19 - 0s - loss: 0.0115 - 248ms/epoch - 13ms/step\n",
      "Epoch 119/200\n",
      "19/19 - 0s - loss: 0.0110 - 247ms/epoch - 13ms/step\n",
      "Epoch 120/200\n",
      "19/19 - 0s - loss: 0.0109 - 250ms/epoch - 13ms/step\n",
      "Epoch 121/200\n",
      "19/19 - 0s - loss: 0.0112 - 298ms/epoch - 16ms/step\n",
      "Epoch 122/200\n",
      "19/19 - 0s - loss: 0.0111 - 285ms/epoch - 15ms/step\n",
      "Epoch 123/200\n",
      "19/19 - 0s - loss: 0.0103 - 300ms/epoch - 16ms/step\n",
      "Epoch 124/200\n",
      "19/19 - 0s - loss: 0.0102 - 224ms/epoch - 12ms/step\n",
      "Epoch 125/200\n",
      "19/19 - 0s - loss: 0.0104 - 234ms/epoch - 12ms/step\n",
      "Epoch 126/200\n",
      "19/19 - 0s - loss: 0.0102 - 223ms/epoch - 12ms/step\n",
      "Epoch 127/200\n",
      "19/19 - 0s - loss: 0.0103 - 230ms/epoch - 12ms/step\n",
      "Epoch 128/200\n",
      "19/19 - 0s - loss: 0.0104 - 236ms/epoch - 12ms/step\n",
      "Epoch 129/200\n",
      "19/19 - 0s - loss: 0.0103 - 226ms/epoch - 12ms/step\n",
      "Epoch 130/200\n",
      "19/19 - 0s - loss: 0.0099 - 222ms/epoch - 12ms/step\n",
      "Epoch 131/200\n",
      "19/19 - 0s - loss: 0.0101 - 233ms/epoch - 12ms/step\n",
      "Epoch 132/200\n",
      "19/19 - 0s - loss: 0.0097 - 266ms/epoch - 14ms/step\n",
      "Epoch 133/200\n",
      "19/19 - 0s - loss: 0.0098 - 261ms/epoch - 14ms/step\n",
      "Epoch 134/200\n",
      "19/19 - 0s - loss: 0.0102 - 261ms/epoch - 14ms/step\n",
      "Epoch 135/200\n",
      "19/19 - 0s - loss: 0.0095 - 261ms/epoch - 14ms/step\n",
      "Epoch 136/200\n",
      "19/19 - 0s - loss: 0.0096 - 271ms/epoch - 14ms/step\n",
      "Epoch 137/200\n",
      "19/19 - 0s - loss: 0.0101 - 297ms/epoch - 16ms/step\n",
      "Epoch 138/200\n",
      "19/19 - 0s - loss: 0.0102 - 279ms/epoch - 15ms/step\n",
      "Epoch 139/200\n",
      "19/19 - 0s - loss: 0.0096 - 234ms/epoch - 12ms/step\n",
      "Epoch 140/200\n",
      "19/19 - 0s - loss: 0.0093 - 229ms/epoch - 12ms/step\n",
      "Epoch 141/200\n",
      "19/19 - 0s - loss: 0.0091 - 282ms/epoch - 15ms/step\n",
      "Epoch 142/200\n",
      "19/19 - 0s - loss: 0.0110 - 261ms/epoch - 14ms/step\n",
      "Epoch 143/200\n",
      "19/19 - 0s - loss: 0.0115 - 271ms/epoch - 14ms/step\n",
      "Epoch 144/200\n",
      "19/19 - 0s - loss: 0.0102 - 252ms/epoch - 13ms/step\n",
      "Epoch 145/200\n",
      "19/19 - 0s - loss: 0.0105 - 365ms/epoch - 19ms/step\n",
      "Epoch 146/200\n",
      "19/19 - 0s - loss: 0.0099 - 464ms/epoch - 24ms/step\n",
      "Epoch 147/200\n",
      "19/19 - 0s - loss: 0.0095 - 432ms/epoch - 23ms/step\n",
      "Epoch 148/200\n",
      "19/19 - 0s - loss: 0.0090 - 452ms/epoch - 24ms/step\n",
      "Epoch 149/200\n",
      "19/19 - 0s - loss: 0.0090 - 492ms/epoch - 26ms/step\n",
      "Epoch 150/200\n",
      "19/19 - 1s - loss: 0.0089 - 541ms/epoch - 28ms/step\n",
      "Epoch 151/200\n",
      "19/19 - 0s - loss: 0.0096 - 446ms/epoch - 23ms/step\n",
      "Epoch 152/200\n",
      "19/19 - 0s - loss: 0.0101 - 453ms/epoch - 24ms/step\n",
      "Epoch 153/200\n",
      "19/19 - 1s - loss: 0.0099 - 569ms/epoch - 30ms/step\n",
      "Epoch 154/200\n",
      "19/19 - 1s - loss: 0.0090 - 547ms/epoch - 29ms/step\n",
      "Epoch 155/200\n",
      "19/19 - 1s - loss: 0.0093 - 659ms/epoch - 35ms/step\n",
      "Epoch 156/200\n",
      "19/19 - 1s - loss: 0.0087 - 640ms/epoch - 34ms/step\n",
      "Epoch 157/200\n",
      "19/19 - 1s - loss: 0.0085 - 612ms/epoch - 32ms/step\n",
      "Epoch 158/200\n",
      "19/19 - 1s - loss: 0.0086 - 603ms/epoch - 32ms/step\n",
      "Epoch 159/200\n",
      "19/19 - 1s - loss: 0.0085 - 516ms/epoch - 27ms/step\n",
      "Epoch 160/200\n",
      "19/19 - 1s - loss: 0.0087 - 552ms/epoch - 29ms/step\n",
      "Epoch 161/200\n",
      "19/19 - 1s - loss: 0.0089 - 575ms/epoch - 30ms/step\n",
      "Epoch 162/200\n",
      "19/19 - 1s - loss: 0.0092 - 535ms/epoch - 28ms/step\n",
      "Epoch 163/200\n",
      "19/19 - 1s - loss: 0.0084 - 557ms/epoch - 29ms/step\n",
      "Epoch 164/200\n",
      "19/19 - 1s - loss: 0.0093 - 558ms/epoch - 29ms/step\n",
      "Epoch 165/200\n",
      "19/19 - 1s - loss: 0.0089 - 579ms/epoch - 30ms/step\n",
      "Epoch 166/200\n",
      "19/19 - 1s - loss: 0.0086 - 629ms/epoch - 33ms/step\n",
      "Epoch 167/200\n",
      "19/19 - 1s - loss: 0.0088 - 557ms/epoch - 29ms/step\n",
      "Epoch 168/200\n",
      "19/19 - 1s - loss: 0.0085 - 530ms/epoch - 28ms/step\n",
      "Epoch 169/200\n",
      "19/19 - 1s - loss: 0.0088 - 589ms/epoch - 31ms/step\n",
      "Epoch 170/200\n",
      "19/19 - 1s - loss: 0.0091 - 573ms/epoch - 30ms/step\n",
      "Epoch 171/200\n",
      "19/19 - 1s - loss: 0.0082 - 626ms/epoch - 33ms/step\n",
      "Epoch 172/200\n",
      "19/19 - 1s - loss: 0.0082 - 565ms/epoch - 30ms/step\n",
      "Epoch 173/200\n",
      "19/19 - 1s - loss: 0.0078 - 588ms/epoch - 31ms/step\n",
      "Epoch 174/200\n",
      "19/19 - 1s - loss: 0.0080 - 566ms/epoch - 30ms/step\n",
      "Epoch 175/200\n",
      "19/19 - 1s - loss: 0.0081 - 502ms/epoch - 26ms/step\n",
      "Epoch 176/200\n",
      "19/19 - 0s - loss: 0.0089 - 498ms/epoch - 26ms/step\n",
      "Epoch 177/200\n",
      "19/19 - 1s - loss: 0.0086 - 520ms/epoch - 27ms/step\n",
      "Epoch 178/200\n",
      "19/19 - 1s - loss: 0.0085 - 582ms/epoch - 31ms/step\n",
      "Epoch 179/200\n",
      "19/19 - 1s - loss: 0.0081 - 578ms/epoch - 30ms/step\n",
      "Epoch 180/200\n",
      "19/19 - 1s - loss: 0.0076 - 614ms/epoch - 32ms/step\n",
      "Epoch 181/200\n",
      "19/19 - 1s - loss: 0.0082 - 559ms/epoch - 29ms/step\n",
      "Epoch 182/200\n",
      "19/19 - 1s - loss: 0.0087 - 567ms/epoch - 30ms/step\n",
      "Epoch 183/200\n",
      "19/19 - 1s - loss: 0.0081 - 562ms/epoch - 30ms/step\n",
      "Epoch 184/200\n",
      "19/19 - 0s - loss: 0.0079 - 491ms/epoch - 26ms/step\n",
      "Epoch 185/200\n",
      "19/19 - 1s - loss: 0.0073 - 545ms/epoch - 29ms/step\n",
      "Epoch 186/200\n",
      "19/19 - 1s - loss: 0.0076 - 604ms/epoch - 32ms/step\n",
      "Epoch 187/200\n",
      "19/19 - 1s - loss: 0.0078 - 601ms/epoch - 32ms/step\n",
      "Epoch 188/200\n",
      "19/19 - 1s - loss: 0.0084 - 555ms/epoch - 29ms/step\n",
      "Epoch 189/200\n",
      "19/19 - 1s - loss: 0.0076 - 515ms/epoch - 27ms/step\n",
      "Epoch 190/200\n",
      "19/19 - 1s - loss: 0.0081 - 560ms/epoch - 29ms/step\n",
      "Epoch 191/200\n",
      "19/19 - 1s - loss: 0.0081 - 534ms/epoch - 28ms/step\n",
      "Epoch 192/200\n",
      "19/19 - 1s - loss: 0.0080 - 547ms/epoch - 29ms/step\n",
      "Epoch 193/200\n",
      "19/19 - 1s - loss: 0.0083 - 532ms/epoch - 28ms/step\n",
      "Epoch 194/200\n",
      "19/19 - 1s - loss: 0.0077 - 525ms/epoch - 28ms/step\n",
      "Epoch 195/200\n",
      "19/19 - 1s - loss: 0.0076 - 529ms/epoch - 28ms/step\n",
      "Epoch 196/200\n",
      "19/19 - 1s - loss: 0.0073 - 533ms/epoch - 28ms/step\n",
      "Epoch 197/200\n",
      "19/19 - 1s - loss: 0.0072 - 564ms/epoch - 30ms/step\n",
      "Epoch 198/200\n",
      "19/19 - 1s - loss: 0.0077 - 542ms/epoch - 29ms/step\n",
      "Epoch 199/200\n",
      "19/19 - 1s - loss: 0.0073 - 532ms/epoch - 28ms/step\n",
      "Epoch 200/200\n",
      "19/19 - 1s - loss: 0.0072 - 594ms/epoch - 31ms/step\n",
      "Test Score: 0.37 CORRELACION\n"
     ]
    },
    {
     "data": {
      "text/plain": "<Figure size 432x288 with 1 Axes>",
      "image/png": "[encoded data removed]"
     },
     "metadata": {
      "needs_background": "light"
     },
     "output_type": "display_data"
    },
    {
     "data": {
      "text/plain": "<Figure size 432x288 with 1 Axes>",
      "image/png": "[encoded data removed]"
     },
     "metadata": {
      "needs_background": "light"
     },
     "output_type": "display_data"
    }
   ],
   "source": [
    "## EJECUCIÓN DE LA FUNCIÓN DE CONSTRUCCIÓN, ENTRENAMIENTO Y TEST DE LA RED\n",
    "model1, trainPredict1, testPredict1, scaler1 = execute_lstm(unidades, date, look_back=90, neuronas=200, epocas=200, capas=6, training_split=0.7,optimizacion='adam', act='tanh')\n",
    "#"
   ]
  },
  {
   "cell_type": "code",
   "execution_count": 98,
   "metadata": {
    "id": "jy-DzlvOXsTX"
   },
   "outputs": [],
   "source": [
    "# DATOS DEL MES DE NOVIEMBRE A PREDECIR\n",
    "predict_data1 = pandas.read_csv('data/INPUT_DATA_PREDICT_180.CSV')\n",
    "scaler = MinMaxScaler(feature_range=(0, 1))\n",
    "unidades1 = scaler.fit_transform(unidades)"
   ]
  },
  {
   "cell_type": "code",
   "execution_count": 99,
   "metadata": {
    "id": "eTqoDlxlXsTX"
   },
   "outputs": [],
   "source": [
    "predict_data1 = predict_data1.values\n",
    "predict_data1 = predict_data1.astype('float32')"
   ]
  },
  {
   "cell_type": "code",
   "execution_count": 100,
   "metadata": {
    "id": "_GGt6M9FXsTY"
   },
   "outputs": [],
   "source": [
    "#se define lookback igual al usado en modelo neuronal\n",
    "look_back1 = 90\n",
    "predict_data_lookback1, predict_data_tiempo_actual1  = create_dataset(predict_data1, look_back1)"
   ]
  },
  {
   "cell_type": "code",
   "execution_count": 101,
   "metadata": {
    "id": "Tm4bh4iXXsTY"
   },
   "outputs": [],
   "source": [
    "predict_data_lookback1 = numpy.reshape(predict_data_lookback1, (predict_data_lookback1.shape[0], 1, predict_data_lookback1.shape[1]))\n",
    "#Predicción\n",
    "predict_model1 = model1.predict(predict_data_lookback1)"
   ]
  },
  {
   "cell_type": "code",
   "execution_count": 102,
   "metadata": {
    "id": "d6ugn-QGXsTY"
   },
   "outputs": [],
   "source": [
    "trainPredictPlot = numpy.empty_like(unidades)\n",
    "trainPredictPlot[:, :] = numpy.nan\n",
    "trainPredictPlot[look_back1:len(trainPredict1) + look_back1, :] = trainPredict1"
   ]
  },
  {
   "cell_type": "code",
   "execution_count": 103,
   "metadata": {
    "id": "H95sEUIjXsTZ"
   },
   "outputs": [],
   "source": [
    "testPredictPlot = numpy.empty_like(unidades)\n",
    "testPredictPlot[:, :] = numpy.nan\n",
    "testPredictPlot[len(trainPredict1) + (look_back1 * 2) - 1 :len(unidades) - 1, :] = testPredict1"
   ]
  },
  {
   "cell_type": "code",
   "execution_count": 104,
   "metadata": {
    "id": "w3Ct4FvjXsTZ",
    "outputId": "b2a54d3e-6ee8-487a-976f-42ff2451dbe3"
   },
   "outputs": [
    {
     "data": {
      "text/plain": "<Figure size 432x288 with 1 Axes>",
      "image/png": "[encoded data removed]"
     },
     "metadata": {
      "needs_background": "light"
     },
     "output_type": "display_data"
    }
   ],
   "source": [
    "plt.plot(unidades1)\n",
    "plt.plot(trainPredictPlot)\n",
    "plt.plot(testPredictPlot)\n",
    "plt.title(\"Primer Modelo LSTM escogido\")\n",
    "plt.ylabel(\"Unidades de Carne Vendidas\")\n",
    "plt.xlabel(\"Tiempo\")\n",
    "plt.show()"
   ]
  },
  {
   "cell_type": "code",
   "execution_count": 105,
   "outputs": [
    {
     "data": {
      "text/plain": "array([[0.26418465],\n       [0.26418465],\n       [0.26418465],\n       [0.26418465],\n       [0.26418465],\n       [0.26418465],\n       [0.26418465],\n       [0.26418465],\n       [0.26418465],\n       [0.26418465],\n       [0.26418465],\n       [0.26418465],\n       [0.26418465],\n       [0.26418465],\n       [0.26418465],\n       [0.26418465],\n       [0.26418465],\n       [0.26418465],\n       [0.26418465],\n       [0.26418465],\n       [0.26418465],\n       [0.26418465],\n       [0.26418465],\n       [0.26418465],\n       [0.26418465],\n       [0.26418465],\n       [0.26418465],\n       [0.26418465],\n       [0.26418465],\n       [0.26418465],\n       [0.26418465],\n       [0.26418465],\n       [0.26418465],\n       [0.26418465],\n       [0.26418465],\n       [0.26418465],\n       [0.26418465],\n       [0.26418465],\n       [0.26418465],\n       [0.26418465],\n       [0.26418465],\n       [0.26418465],\n       [0.26418465],\n       [0.26418465],\n       [0.26418465],\n       [0.26418465],\n       [0.26418465],\n       [0.26418465],\n       [0.26418465],\n       [0.26418465],\n       [0.26418465],\n       [0.26418465],\n       [0.26418465],\n       [0.26418465],\n       [0.26418465],\n       [0.26418465],\n       [0.26418465],\n       [0.26418465],\n       [0.26418465],\n       [0.26418465],\n       [0.26418465],\n       [0.26418465],\n       [0.26418465],\n       [0.26418465],\n       [0.26418465],\n       [0.26418465],\n       [0.26418465],\n       [0.26418465],\n       [0.26418465],\n       [0.26418465],\n       [0.26418465],\n       [0.26418465],\n       [0.26418465],\n       [0.26418465],\n       [0.26418465],\n       [0.26418465],\n       [0.26418465],\n       [0.26418465],\n       [0.26418465],\n       [0.26418465],\n       [0.26418465],\n       [0.26418465],\n       [0.26418465],\n       [0.26418465],\n       [0.26418465],\n       [0.26418465],\n       [0.26418465],\n       [0.26418465],\n       [0.26418465],\n       [0.26418465],\n       [0.26418465],\n       [0.26418465],\n       [0.26418465],\n       [0.26418465],\n       [0.26418465],\n       [0.26418465],\n       [0.26418465],\n       [0.26418465],\n       [0.26418465],\n       [0.26418465],\n       [0.26418465],\n       [0.26418465],\n       [0.26418465],\n       [0.26418465],\n       [0.26418465],\n       [0.26418465],\n       [0.26418465],\n       [0.26418465],\n       [0.26418465],\n       [0.26418465],\n       [0.26418465],\n       [0.26418465],\n       [0.26418465],\n       [0.26418465],\n       [0.26418465],\n       [0.26418465],\n       [0.26418465],\n       [0.26418465],\n       [0.26418465],\n       [0.26418465],\n       [0.26418465]], dtype=float32)"
     },
     "execution_count": 105,
     "metadata": {},
     "output_type": "execute_result"
    }
   ],
   "source": [
    "predict_model1 #esto es lo que no entiendo, porque para los 121 registros, hay el mismo valor"
   ],
   "metadata": {
    "collapsed": false,
    "pycharm": {
     "name": "#%%\n"
    }
   }
  },
  {
   "cell_type": "code",
   "execution_count": null,
   "outputs": [],
   "source": [],
   "metadata": {
    "collapsed": false,
    "pycharm": {
     "name": "#%%\n"
    }
   }
  }
 ],
 "metadata": {
  "kernelspec": {
   "display_name": "Python 3",
   "language": "python",
   "name": "python3"
  },
  "language_info": {
   "codemirror_mode": {
    "name": "ipython",
    "version": 3
   },
   "file_extension": ".py",
   "mimetype": "text/x-python",
   "name": "python",
   "nbconvert_exporter": "python",
   "pygments_lexer": "ipython3",
   "version": "3.6.4"
  },
  "colab": {
   "name": "MEJOR_MODELO_LSTM.ipynb",
   "provenance": []
  }
 },
 "nbformat": 4,
 "nbformat_minor": 0
}