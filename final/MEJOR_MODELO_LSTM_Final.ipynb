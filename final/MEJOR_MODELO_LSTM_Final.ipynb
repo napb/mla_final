{
 "cells": [
  {
   "cell_type": "code",
   "execution_count": 13,
   "metadata": {
    "id": "MRSliBjtXsTJ",
    "outputId": "9d48c88c-5a08-4302-d215-068f25e80ef7"
   },
   "outputs": [],
   "source": [
    "# Importo las bibliotecas a utilizar\n",
    "import numpy\n",
    "import matplotlib.pyplot as plt\n",
    "import pandas\n",
    "import pandas as pd\n",
    "from keras.models import Sequential\n",
    "from keras.layers import Dense\n",
    "from keras.layers import LSTM\n",
    "import keras\n",
    "from sklearn.preprocessing import MinMaxScaler\n",
    "from sklearn.model_selection import KFold\n",
    "import argparse"
   ]
  },
  {
   "cell_type": "code",
   "execution_count": 14,
   "metadata": {
    "id": "7ng335-VXsTM"
   },
   "outputs": [],
   "source": [
    "numpy.random.seed(7)"
   ]
  },
  {
   "cell_type": "code",
   "execution_count": 15,
   "outputs": [],
   "source": [
    "def create_dataset(dataset, look_back=1):\n",
    "    \"\"\"\n",
    "    Se generan los instantes en tiempos t hacia atras\n",
    "    para lograr predecir el instante t\n",
    "\n",
    "    :param dataset: conjunto de datos completos\n",
    "    :param look_back: cuantos instantes de tiempo t hacia atras seran utilizados\n",
    "    :return: una matriz con los instantes de tiempo hacia atras y el instante presente\n",
    "    \"\"\"\n",
    "\n",
    "    dataX = []\n",
    "    dataY = []\n",
    "    for i in range(len(dataset)-look_back):\n",
    "        a = dataset[i:(i+look_back), 0]\n",
    "        dataX.append(a)\n",
    "        dataY.append(dataset[i + look_back, 0])\n",
    "    return numpy.array(dataX), numpy.array(dataY)"
   ],
   "metadata": {
    "collapsed": false,
    "pycharm": {
     "name": "#%%\n"
    }
   }
  },
  {
   "cell_type": "code",
   "execution_count": 16,
   "metadata": {
    "id": "UzX9mCLXXsTN"
   },
   "outputs": [],
   "source": [
    "def remuestre(cantidad, dataframe):\n",
    "    \"\"\"\n",
    "    Se hace un re muestreo en el dataframe disminuyendo la cantidad total\n",
    "    de datos\n",
    "    :param cantidad: cantidad de datos que seran promediados\n",
    "    :param dataframe: el dataframe con el que se esta trabajando\n",
    "    :return: dataframe: es el dataframe ya remuestrado\n",
    "    \"\"\"\n",
    "    suma = 0\n",
    "    contador = 0\n",
    "    eliminar = []\n",
    "    for i in range(len(dataframe)):\n",
    "        contador += 1\n",
    "        suma += dataframe.loc[i]\n",
    "        if (contador == cantidad):\n",
    "            dataframe.loc[i] = suma / cantidad\n",
    "            contador = 0\n",
    "            suma = 0\n",
    "        else:\n",
    "            eliminar.append(i)\n",
    "    dataframe = dataframe.drop(dataframe.index[eliminar])\n",
    "    return dataframe"
   ]
  },
  {
   "cell_type": "code",
   "execution_count": 17,
   "metadata": {
    "id": "4TW24da4XsTO"
   },
   "outputs": [],
   "source": [
    "def execute_lstm(unidades, date, look_back, neuronas, epocas, capas='6', training_split=0.67,optimizacion='adam', act='tanh'):    \n",
    "    \"\"\"\n",
    "    función que reune la lógica de construcción, entrenamiento y test de la red recurrente LSTM\n",
    "    \"\"\"\n",
    "    \n",
    "    # normalizacion del dataset\n",
    "    scaler = MinMaxScaler(feature_range=(0, 1))\n",
    "    unidades = scaler.fit_transform(unidades)\n",
    "    date = scaler.fit_transform(date)\n",
    "\n",
    "    keras.callbacks.Callback()\n",
    "    train_size = int(len(date) * training_split)\n",
    "    test_size = len(date) - train_size\n",
    "    date_train, date_test = date[0:train_size, :], date[train_size:len(date), :]\n",
    "    unidades_train, unidades_test = unidades[0:train_size, :], unidades[train_size:len(unidades), :]\n",
    "    print(len(date_train), len(unidades_test))\n",
    "\n",
    "    date_train_lookback, date_train_tiempo_actual = create_dataset(date_train, look_back)  # date_train_lookback es la presion Entrenamiento\n",
    "    date_test_lookback, date_test_tiempo_actual = create_dataset(date_test, look_back)  # date_test_lookback es la presion de test\n",
    "    unidades_train_lookback, unidades_train_tiempo_actual = create_dataset(unidades_train, look_back)  # unidades_train_tiempo_actual autorregulacion de entrenamiento\n",
    "    unidades_test_lookback, unidades_test_tiempo_actual = create_dataset(unidades_test, look_back)  # unidades_test_tiempo_actual autorregulacion de test\n",
    "\n",
    "    #transformacion necesaria, para ser utilizados los datos para entrar a la red neuronal\n",
    "    date_train_lookback = numpy.reshape(date_train_lookback, (date_train_lookback.shape[0], 1, date_train_lookback.shape[1]))\n",
    "    date_test_lookback = numpy.reshape(date_test_lookback, (date_test_lookback.shape[0], 1, date_test_lookback.shape[1]))\n",
    "\n",
    "    # create and fit the LSTM network\n",
    "    csv_logger = keras.callbacks.CSVLogger('training.log', separator=',', append=False)\n",
    "    model = Sequential()\n",
    "    model.add(LSTM(neuronas, return_sequences = True, input_shape=(1, look_back)))\n",
    "    for i in range(capas):\n",
    "        model.add(LSTM(neuronas, return_sequences = True, activation=act))\n",
    "    model.add(LSTM(neuronas))\n",
    "    model.add(Dense(1, activation=act))\n",
    "    model.compile(loss='mean_squared_error', optimizer=optimizacion)\n",
    "    model.fit(date_train_lookback, unidades_train_tiempo_actual, epochs=epocas, batch_size=32, verbose=2, callbacks=[csv_logger])\n",
    "\n",
    "    trainPredict = model.predict(date_train_lookback)\n",
    "    testPredict = model.predict(date_test_lookback)\n",
    "\n",
    "    corr = numpy.corrcoef(unidades_test_tiempo_actual, testPredict[:, 0])\n",
    "    print('Test Score: %.2f CORRELACION' % (corr[1][0]))\n",
    "\n",
    "    trainPredictPlot = numpy.empty_like(unidades)\n",
    "    trainPredictPlot[:, :] = numpy.nan\n",
    "    trainPredictPlot[look_back:len(trainPredict) + look_back, :] = trainPredict\n",
    "\n",
    "    testPredictPlot = numpy.empty_like(unidades)\n",
    "    testPredictPlot[:, :] = numpy.nan\n",
    "    testPredictPlot[len(trainPredict) + (look_back * 2) - 1 :len(unidades) - 1, :] = testPredict\n",
    "\n",
    "    plt.plot(unidades)\n",
    "    plt.plot(trainPredictPlot)\n",
    "    plt.plot(testPredictPlot)\n",
    "    plt.title(\"LSTM con %i neuronas, correlacion: %.2f\" % (neuronas, corr[1][0] * 100))\n",
    "    plt.ylabel(\"Unidades de Carne Vendidas\")\n",
    "    plt.xlabel(\"Tiempo\")\n",
    "    plt.show()\n",
    "\n",
    "    registro = pandas.read_csv('training.log', sep=\",\")\n",
    "    plt.plot(registro[\"epoch\"].values, registro[\"loss\"].values)\n",
    "    plt.title(\"Error LSTM con %i neuronas, correlacion: %.2f\" % (neuronas, corr[1][0] * 100))\n",
    "    plt.ylabel(\"Error\")\n",
    "    plt.xlabel(\"Epocas\")\n",
    "    plt.show()\n",
    "    \n",
    "    return model, trainPredict, testPredict, scaler, trainPredictPlot, testPredictPlot\n",
    "\n",
    "\n",
    "\n"
   ]
  },
  {
   "cell_type": "code",
   "execution_count": 18,
   "metadata": {
    "id": "ErwcEtdaXsTP"
   },
   "outputs": [],
   "source": [
    "# TRATAMIENTO DE DATOS\n",
    "data = pandas.read_csv('./data/training_series.csv')"
   ]
  },
  {
   "cell_type": "code",
   "execution_count": 19,
   "metadata": {
    "id": "s_VNSGMHXsTQ"
   },
   "outputs": [],
   "source": [
    "unidades = pandas.DataFrame(data['Close'])\n",
    "unidades = unidades.values\n",
    "unidades = unidades.astype('float32')"
   ]
  },
  {
   "cell_type": "code",
   "execution_count": 20,
   "outputs": [],
   "source": [
    "date = pandas.DataFrame()\n",
    "date['DIA'] = data[\"Date\"]\n",
    "date['ANO'] = data[\"Year\"]\n",
    "date['MES'] = data[\"Month\"]\n",
    "#date['FECHAS_IMPORT']=data[\"FECHAS_IMPORT\"]\n",
    "date = date.values\n",
    "date = date.astype('float32')"
   ],
   "metadata": {
    "collapsed": false,
    "pycharm": {
     "name": "#%%\n"
    }
   }
  },
  {
   "cell_type": "code",
   "execution_count": 21,
   "metadata": {
    "id": "xeclm245XsTX",
    "outputId": "531b89a1-d8d2-4c3a-f6ad-077972cae47c"
   },
   "outputs": [
    {
     "name": "stdout",
     "output_type": "stream",
     "text": [
      "872 375\n"
     ]
    },
    {
     "name": "stderr",
     "output_type": "stream",
     "text": [
      "2022-01-15 11:19:12.280494: I tensorflow/core/platform/cpu_feature_guard.cc:151] This TensorFlow binary is optimized with oneAPI Deep Neural Network Library (oneDNN) to use the following CPU instructions in performance-critical operations:  AVX2 FMA\n",
      "To enable them in other operations, rebuild TensorFlow with the appropriate compiler flags.\n"
     ]
    },
    {
     "name": "stdout",
     "output_type": "stream",
     "text": [
      "Epoch 1/200\n",
      "27/27 - 11s - loss: 0.0247 - 11s/epoch - 393ms/step\n",
      "Epoch 2/200\n",
      "27/27 - 0s - loss: 0.0104 - 486ms/epoch - 18ms/step\n",
      "Epoch 3/200\n",
      "27/27 - 1s - loss: 0.0103 - 604ms/epoch - 22ms/step\n",
      "Epoch 4/200\n",
      "27/27 - 1s - loss: 0.0102 - 631ms/epoch - 23ms/step\n",
      "Epoch 5/200\n",
      "27/27 - 1s - loss: 0.0103 - 609ms/epoch - 23ms/step\n",
      "Epoch 6/200\n",
      "27/27 - 1s - loss: 0.0104 - 626ms/epoch - 23ms/step\n",
      "Epoch 7/200\n",
      "27/27 - 1s - loss: 0.0103 - 607ms/epoch - 22ms/step\n",
      "Epoch 8/200\n",
      "27/27 - 1s - loss: 0.0102 - 643ms/epoch - 24ms/step\n",
      "Epoch 9/200\n",
      "27/27 - 1s - loss: 0.0102 - 601ms/epoch - 22ms/step\n",
      "Epoch 10/200\n",
      "27/27 - 1s - loss: 0.0102 - 567ms/epoch - 21ms/step\n",
      "Epoch 11/200\n",
      "27/27 - 1s - loss: 0.0102 - 516ms/epoch - 19ms/step\n",
      "Epoch 12/200\n",
      "27/27 - 0s - loss: 0.0102 - 468ms/epoch - 17ms/step\n",
      "Epoch 13/200\n",
      "27/27 - 0s - loss: 0.0104 - 442ms/epoch - 16ms/step\n",
      "Epoch 14/200\n",
      "27/27 - 1s - loss: 0.0103 - 604ms/epoch - 22ms/step\n",
      "Epoch 15/200\n",
      "27/27 - 0s - loss: 0.0102 - 429ms/epoch - 16ms/step\n",
      "Epoch 16/200\n",
      "27/27 - 0s - loss: 0.0102 - 472ms/epoch - 17ms/step\n",
      "Epoch 17/200\n",
      "27/27 - 0s - loss: 0.0102 - 448ms/epoch - 17ms/step\n",
      "Epoch 18/200\n",
      "27/27 - 0s - loss: 0.0101 - 433ms/epoch - 16ms/step\n",
      "Epoch 19/200\n",
      "27/27 - 0s - loss: 0.0102 - 447ms/epoch - 17ms/step\n",
      "Epoch 20/200\n",
      "27/27 - 0s - loss: 0.0102 - 400ms/epoch - 15ms/step\n",
      "Epoch 21/200\n",
      "27/27 - 0s - loss: 0.0103 - 467ms/epoch - 17ms/step\n",
      "Epoch 22/200\n",
      "27/27 - 0s - loss: 0.0102 - 466ms/epoch - 17ms/step\n",
      "Epoch 23/200\n",
      "27/27 - 0s - loss: 0.0102 - 456ms/epoch - 17ms/step\n",
      "Epoch 24/200\n",
      "27/27 - 0s - loss: 0.0103 - 446ms/epoch - 17ms/step\n",
      "Epoch 25/200\n",
      "27/27 - 0s - loss: 0.0103 - 410ms/epoch - 15ms/step\n",
      "Epoch 26/200\n",
      "27/27 - 0s - loss: 0.0103 - 451ms/epoch - 17ms/step\n",
      "Epoch 27/200\n",
      "27/27 - 1s - loss: 0.0102 - 554ms/epoch - 21ms/step\n",
      "Epoch 28/200\n",
      "27/27 - 0s - loss: 0.0102 - 431ms/epoch - 16ms/step\n",
      "Epoch 29/200\n",
      "27/27 - 0s - loss: 0.0102 - 404ms/epoch - 15ms/step\n",
      "Epoch 30/200\n",
      "27/27 - 0s - loss: 0.0102 - 404ms/epoch - 15ms/step\n",
      "Epoch 31/200\n",
      "27/27 - 0s - loss: 0.0102 - 407ms/epoch - 15ms/step\n",
      "Epoch 32/200\n",
      "27/27 - 0s - loss: 0.0102 - 401ms/epoch - 15ms/step\n",
      "Epoch 33/200\n",
      "27/27 - 0s - loss: 0.0102 - 402ms/epoch - 15ms/step\n",
      "Epoch 34/200\n",
      "27/27 - 0s - loss: 0.0102 - 404ms/epoch - 15ms/step\n",
      "Epoch 35/200\n",
      "27/27 - 0s - loss: 0.0103 - 397ms/epoch - 15ms/step\n",
      "Epoch 36/200\n",
      "27/27 - 0s - loss: 0.0105 - 403ms/epoch - 15ms/step\n",
      "Epoch 37/200\n",
      "27/27 - 0s - loss: 0.0102 - 400ms/epoch - 15ms/step\n",
      "Epoch 38/200\n",
      "27/27 - 0s - loss: 0.0102 - 410ms/epoch - 15ms/step\n",
      "Epoch 39/200\n",
      "27/27 - 0s - loss: 0.0102 - 399ms/epoch - 15ms/step\n",
      "Epoch 40/200\n",
      "27/27 - 0s - loss: 0.0102 - 420ms/epoch - 16ms/step\n",
      "Epoch 41/200\n",
      "27/27 - 0s - loss: 0.0103 - 412ms/epoch - 15ms/step\n",
      "Epoch 42/200\n",
      "27/27 - 0s - loss: 0.0102 - 410ms/epoch - 15ms/step\n",
      "Epoch 43/200\n",
      "27/27 - 0s - loss: 0.0103 - 411ms/epoch - 15ms/step\n",
      "Epoch 44/200\n",
      "27/27 - 0s - loss: 0.0103 - 438ms/epoch - 16ms/step\n",
      "Epoch 45/200\n",
      "27/27 - 0s - loss: 0.0102 - 389ms/epoch - 14ms/step\n",
      "Epoch 46/200\n",
      "27/27 - 0s - loss: 0.0102 - 382ms/epoch - 14ms/step\n",
      "Epoch 47/200\n",
      "27/27 - 0s - loss: 0.0102 - 428ms/epoch - 16ms/step\n",
      "Epoch 48/200\n",
      "27/27 - 0s - loss: 0.0102 - 405ms/epoch - 15ms/step\n",
      "Epoch 49/200\n",
      "27/27 - 0s - loss: 0.0102 - 420ms/epoch - 16ms/step\n",
      "Epoch 50/200\n",
      "27/27 - 0s - loss: 0.0103 - 424ms/epoch - 16ms/step\n",
      "Epoch 51/200\n",
      "27/27 - 0s - loss: 0.0102 - 391ms/epoch - 14ms/step\n",
      "Epoch 52/200\n",
      "27/27 - 0s - loss: 0.0102 - 419ms/epoch - 16ms/step\n",
      "Epoch 53/200\n",
      "27/27 - 0s - loss: 0.0102 - 427ms/epoch - 16ms/step\n",
      "Epoch 54/200\n",
      "27/27 - 0s - loss: 0.0102 - 398ms/epoch - 15ms/step\n",
      "Epoch 55/200\n",
      "27/27 - 0s - loss: 0.0102 - 409ms/epoch - 15ms/step\n",
      "Epoch 56/200\n",
      "27/27 - 0s - loss: 0.0102 - 434ms/epoch - 16ms/step\n",
      "Epoch 57/200\n",
      "27/27 - 0s - loss: 0.0102 - 409ms/epoch - 15ms/step\n",
      "Epoch 58/200\n",
      "27/27 - 0s - loss: 0.0102 - 402ms/epoch - 15ms/step\n",
      "Epoch 59/200\n",
      "27/27 - 1s - loss: 0.0102 - 518ms/epoch - 19ms/step\n",
      "Epoch 60/200\n",
      "27/27 - 0s - loss: 0.0102 - 476ms/epoch - 18ms/step\n",
      "Epoch 61/200\n",
      "27/27 - 0s - loss: 0.0102 - 354ms/epoch - 13ms/step\n",
      "Epoch 62/200\n",
      "27/27 - 1s - loss: 0.0103 - 600ms/epoch - 22ms/step\n",
      "Epoch 63/200\n",
      "27/27 - 0s - loss: 0.0102 - 372ms/epoch - 14ms/step\n",
      "Epoch 64/200\n",
      "27/27 - 0s - loss: 0.0102 - 346ms/epoch - 13ms/step\n",
      "Epoch 65/200\n",
      "27/27 - 0s - loss: 0.0102 - 338ms/epoch - 13ms/step\n",
      "Epoch 66/200\n",
      "27/27 - 0s - loss: 0.0102 - 346ms/epoch - 13ms/step\n",
      "Epoch 67/200\n",
      "27/27 - 0s - loss: 0.0102 - 348ms/epoch - 13ms/step\n",
      "Epoch 68/200\n",
      "27/27 - 0s - loss: 0.0103 - 333ms/epoch - 12ms/step\n",
      "Epoch 69/200\n",
      "27/27 - 0s - loss: 0.0101 - 346ms/epoch - 13ms/step\n",
      "Epoch 70/200\n",
      "27/27 - 0s - loss: 0.0102 - 355ms/epoch - 13ms/step\n",
      "Epoch 71/200\n",
      "27/27 - 0s - loss: 0.0103 - 330ms/epoch - 12ms/step\n",
      "Epoch 72/200\n",
      "27/27 - 0s - loss: 0.0102 - 345ms/epoch - 13ms/step\n",
      "Epoch 73/200\n",
      "27/27 - 0s - loss: 0.0102 - 347ms/epoch - 13ms/step\n",
      "Epoch 74/200\n",
      "27/27 - 0s - loss: 0.0104 - 330ms/epoch - 12ms/step\n",
      "Epoch 75/200\n",
      "27/27 - 0s - loss: 0.0102 - 345ms/epoch - 13ms/step\n",
      "Epoch 76/200\n",
      "27/27 - 0s - loss: 0.0102 - 354ms/epoch - 13ms/step\n",
      "Epoch 77/200\n",
      "27/27 - 0s - loss: 0.0102 - 350ms/epoch - 13ms/step\n",
      "Epoch 78/200\n",
      "27/27 - 0s - loss: 0.0102 - 339ms/epoch - 13ms/step\n",
      "Epoch 79/200\n",
      "27/27 - 0s - loss: 0.0102 - 342ms/epoch - 13ms/step\n",
      "Epoch 80/200\n",
      "27/27 - 0s - loss: 0.0102 - 344ms/epoch - 13ms/step\n",
      "Epoch 81/200\n",
      "27/27 - 0s - loss: 0.0102 - 341ms/epoch - 13ms/step\n",
      "Epoch 82/200\n",
      "27/27 - 0s - loss: 0.0102 - 341ms/epoch - 13ms/step\n",
      "Epoch 83/200\n",
      "27/27 - 0s - loss: 0.0102 - 353ms/epoch - 13ms/step\n",
      "Epoch 84/200\n",
      "27/27 - 0s - loss: 0.0101 - 333ms/epoch - 12ms/step\n",
      "Epoch 85/200\n",
      "27/27 - 0s - loss: 0.0103 - 344ms/epoch - 13ms/step\n",
      "Epoch 86/200\n",
      "27/27 - 0s - loss: 0.0102 - 346ms/epoch - 13ms/step\n",
      "Epoch 87/200\n",
      "27/27 - 0s - loss: 0.0102 - 332ms/epoch - 12ms/step\n",
      "Epoch 88/200\n",
      "27/27 - 0s - loss: 0.0101 - 351ms/epoch - 13ms/step\n",
      "Epoch 89/200\n",
      "27/27 - 0s - loss: 0.0102 - 345ms/epoch - 13ms/step\n",
      "Epoch 90/200\n",
      "27/27 - 0s - loss: 0.0102 - 349ms/epoch - 13ms/step\n",
      "Epoch 91/200\n",
      "27/27 - 0s - loss: 0.0102 - 329ms/epoch - 12ms/step\n",
      "Epoch 92/200\n",
      "27/27 - 0s - loss: 0.0104 - 377ms/epoch - 14ms/step\n",
      "Epoch 93/200\n",
      "27/27 - 0s - loss: 0.0103 - 343ms/epoch - 13ms/step\n",
      "Epoch 94/200\n",
      "27/27 - 0s - loss: 0.0103 - 333ms/epoch - 12ms/step\n",
      "Epoch 95/200\n",
      "27/27 - 0s - loss: 0.0102 - 344ms/epoch - 13ms/step\n",
      "Epoch 96/200\n",
      "27/27 - 0s - loss: 0.0102 - 340ms/epoch - 13ms/step\n",
      "Epoch 97/200\n",
      "27/27 - 0s - loss: 0.0102 - 328ms/epoch - 12ms/step\n",
      "Epoch 98/200\n",
      "27/27 - 0s - loss: 0.0102 - 342ms/epoch - 13ms/step\n",
      "Epoch 99/200\n",
      "27/27 - 0s - loss: 0.0102 - 363ms/epoch - 13ms/step\n",
      "Epoch 100/200\n",
      "27/27 - 0s - loss: 0.0102 - 343ms/epoch - 13ms/step\n",
      "Epoch 101/200\n",
      "27/27 - 0s - loss: 0.0102 - 341ms/epoch - 13ms/step\n",
      "Epoch 102/200\n",
      "27/27 - 0s - loss: 0.0102 - 361ms/epoch - 13ms/step\n",
      "Epoch 103/200\n",
      "27/27 - 0s - loss: 0.0102 - 330ms/epoch - 12ms/step\n",
      "Epoch 104/200\n",
      "27/27 - 0s - loss: 0.0102 - 345ms/epoch - 13ms/step\n",
      "Epoch 105/200\n",
      "27/27 - 0s - loss: 0.0102 - 345ms/epoch - 13ms/step\n",
      "Epoch 106/200\n",
      "27/27 - 0s - loss: 0.0102 - 360ms/epoch - 13ms/step\n",
      "Epoch 107/200\n",
      "27/27 - 0s - loss: 0.0101 - 349ms/epoch - 13ms/step\n",
      "Epoch 108/200\n",
      "27/27 - 0s - loss: 0.0102 - 356ms/epoch - 13ms/step\n",
      "Epoch 109/200\n",
      "27/27 - 0s - loss: 0.0103 - 343ms/epoch - 13ms/step\n",
      "Epoch 110/200\n",
      "27/27 - 0s - loss: 0.0103 - 346ms/epoch - 13ms/step\n",
      "Epoch 111/200\n",
      "27/27 - 0s - loss: 0.0101 - 387ms/epoch - 14ms/step\n",
      "Epoch 112/200\n",
      "27/27 - 0s - loss: 0.0103 - 422ms/epoch - 16ms/step\n",
      "Epoch 113/200\n",
      "27/27 - 1s - loss: 0.0103 - 505ms/epoch - 19ms/step\n",
      "Epoch 114/200\n",
      "27/27 - 0s - loss: 0.0102 - 370ms/epoch - 14ms/step\n",
      "Epoch 115/200\n",
      "27/27 - 0s - loss: 0.0102 - 443ms/epoch - 16ms/step\n",
      "Epoch 116/200\n",
      "27/27 - 0s - loss: 0.0102 - 368ms/epoch - 14ms/step\n",
      "Epoch 117/200\n",
      "27/27 - 0s - loss: 0.0102 - 348ms/epoch - 13ms/step\n",
      "Epoch 118/200\n",
      "27/27 - 0s - loss: 0.0102 - 348ms/epoch - 13ms/step\n",
      "Epoch 119/200\n",
      "27/27 - 0s - loss: 0.0103 - 329ms/epoch - 12ms/step\n",
      "Epoch 120/200\n",
      "27/27 - 0s - loss: 0.0102 - 358ms/epoch - 13ms/step\n",
      "Epoch 121/200\n",
      "27/27 - 0s - loss: 0.0102 - 345ms/epoch - 13ms/step\n",
      "Epoch 122/200\n",
      "27/27 - 0s - loss: 0.0102 - 336ms/epoch - 12ms/step\n",
      "Epoch 123/200\n",
      "27/27 - 0s - loss: 0.0102 - 337ms/epoch - 12ms/step\n",
      "Epoch 124/200\n",
      "27/27 - 0s - loss: 0.0102 - 345ms/epoch - 13ms/step\n",
      "Epoch 125/200\n",
      "27/27 - 0s - loss: 0.0102 - 342ms/epoch - 13ms/step\n",
      "Epoch 126/200\n",
      "27/27 - 0s - loss: 0.0102 - 337ms/epoch - 12ms/step\n",
      "Epoch 127/200\n",
      "27/27 - 0s - loss: 0.0102 - 344ms/epoch - 13ms/step\n",
      "Epoch 128/200\n",
      "27/27 - 0s - loss: 0.0102 - 352ms/epoch - 13ms/step\n",
      "Epoch 129/200\n",
      "27/27 - 0s - loss: 0.0103 - 330ms/epoch - 12ms/step\n",
      "Epoch 130/200\n",
      "27/27 - 0s - loss: 0.0103 - 346ms/epoch - 13ms/step\n",
      "Epoch 131/200\n",
      "27/27 - 0s - loss: 0.0102 - 351ms/epoch - 13ms/step\n",
      "Epoch 132/200\n",
      "27/27 - 0s - loss: 0.0102 - 331ms/epoch - 12ms/step\n",
      "Epoch 133/200\n",
      "27/27 - 0s - loss: 0.0102 - 345ms/epoch - 13ms/step\n",
      "Epoch 134/200\n",
      "27/27 - 0s - loss: 0.0103 - 362ms/epoch - 13ms/step\n",
      "Epoch 135/200\n",
      "27/27 - 0s - loss: 0.0102 - 333ms/epoch - 12ms/step\n",
      "Epoch 136/200\n",
      "27/27 - 0s - loss: 0.0102 - 355ms/epoch - 13ms/step\n",
      "Epoch 137/200\n",
      "27/27 - 0s - loss: 0.0102 - 345ms/epoch - 13ms/step\n",
      "Epoch 138/200\n",
      "27/27 - 0s - loss: 0.0102 - 334ms/epoch - 12ms/step\n",
      "Epoch 139/200\n",
      "27/27 - 0s - loss: 0.0102 - 341ms/epoch - 13ms/step\n",
      "Epoch 140/200\n",
      "27/27 - 0s - loss: 0.0102 - 347ms/epoch - 13ms/step\n",
      "Epoch 141/200\n",
      "27/27 - 0s - loss: 0.0102 - 339ms/epoch - 13ms/step\n",
      "Epoch 142/200\n",
      "27/27 - 0s - loss: 0.0102 - 346ms/epoch - 13ms/step\n",
      "Epoch 143/200\n",
      "27/27 - 0s - loss: 0.0102 - 351ms/epoch - 13ms/step\n",
      "Epoch 144/200\n",
      "27/27 - 0s - loss: 0.0103 - 362ms/epoch - 13ms/step\n",
      "Epoch 145/200\n",
      "27/27 - 0s - loss: 0.0102 - 343ms/epoch - 13ms/step\n",
      "Epoch 146/200\n",
      "27/27 - 0s - loss: 0.0102 - 344ms/epoch - 13ms/step\n",
      "Epoch 147/200\n",
      "27/27 - 0s - loss: 0.0102 - 335ms/epoch - 12ms/step\n",
      "Epoch 148/200\n",
      "27/27 - 0s - loss: 0.0103 - 328ms/epoch - 12ms/step\n",
      "Epoch 149/200\n",
      "27/27 - 0s - loss: 0.0103 - 362ms/epoch - 13ms/step\n",
      "Epoch 150/200\n",
      "27/27 - 0s - loss: 0.0102 - 353ms/epoch - 13ms/step\n",
      "Epoch 151/200\n",
      "27/27 - 0s - loss: 0.0102 - 329ms/epoch - 12ms/step\n",
      "Epoch 152/200\n",
      "27/27 - 0s - loss: 0.0101 - 345ms/epoch - 13ms/step\n",
      "Epoch 153/200\n",
      "27/27 - 0s - loss: 0.0102 - 360ms/epoch - 13ms/step\n",
      "Epoch 154/200\n",
      "27/27 - 0s - loss: 0.0102 - 342ms/epoch - 13ms/step\n",
      "Epoch 155/200\n",
      "27/27 - 0s - loss: 0.0102 - 330ms/epoch - 12ms/step\n",
      "Epoch 156/200\n",
      "27/27 - 0s - loss: 0.0102 - 347ms/epoch - 13ms/step\n",
      "Epoch 157/200\n",
      "27/27 - 0s - loss: 0.0102 - 355ms/epoch - 13ms/step\n",
      "Epoch 158/200\n",
      "27/27 - 0s - loss: 0.0102 - 329ms/epoch - 12ms/step\n",
      "Epoch 159/200\n",
      "27/27 - 0s - loss: 0.0102 - 347ms/epoch - 13ms/step\n",
      "Epoch 160/200\n",
      "27/27 - 0s - loss: 0.0103 - 356ms/epoch - 13ms/step\n",
      "Epoch 161/200\n",
      "27/27 - 0s - loss: 0.0101 - 331ms/epoch - 12ms/step\n",
      "Epoch 162/200\n",
      "27/27 - 0s - loss: 0.0102 - 344ms/epoch - 13ms/step\n",
      "Epoch 163/200\n",
      "27/27 - 0s - loss: 0.0102 - 356ms/epoch - 13ms/step\n",
      "Epoch 164/200\n",
      "27/27 - 0s - loss: 0.0102 - 324ms/epoch - 12ms/step\n",
      "Epoch 165/200\n",
      "27/27 - 0s - loss: 0.0102 - 348ms/epoch - 13ms/step\n",
      "Epoch 166/200\n",
      "27/27 - 0s - loss: 0.0102 - 349ms/epoch - 13ms/step\n",
      "Epoch 167/200\n",
      "27/27 - 0s - loss: 0.0102 - 335ms/epoch - 12ms/step\n",
      "Epoch 168/200\n",
      "27/27 - 0s - loss: 0.0102 - 340ms/epoch - 13ms/step\n",
      "Epoch 169/200\n",
      "27/27 - 0s - loss: 0.0102 - 368ms/epoch - 14ms/step\n",
      "Epoch 170/200\n",
      "27/27 - 0s - loss: 0.0102 - 359ms/epoch - 13ms/step\n",
      "Epoch 171/200\n",
      "27/27 - 0s - loss: 0.0102 - 330ms/epoch - 12ms/step\n",
      "Epoch 172/200\n",
      "27/27 - 0s - loss: 0.0102 - 346ms/epoch - 13ms/step\n",
      "Epoch 173/200\n",
      "27/27 - 0s - loss: 0.0103 - 344ms/epoch - 13ms/step\n",
      "Epoch 174/200\n",
      "27/27 - 0s - loss: 0.0101 - 330ms/epoch - 12ms/step\n",
      "Epoch 175/200\n",
      "27/27 - 0s - loss: 0.0102 - 357ms/epoch - 13ms/step\n",
      "Epoch 176/200\n",
      "27/27 - 0s - loss: 0.0102 - 345ms/epoch - 13ms/step\n",
      "Epoch 177/200\n",
      "27/27 - 0s - loss: 0.0102 - 333ms/epoch - 12ms/step\n",
      "Epoch 178/200\n",
      "27/27 - 0s - loss: 0.0102 - 344ms/epoch - 13ms/step\n",
      "Epoch 179/200\n",
      "27/27 - 0s - loss: 0.0102 - 360ms/epoch - 13ms/step\n",
      "Epoch 180/200\n",
      "27/27 - 0s - loss: 0.0102 - 334ms/epoch - 12ms/step\n",
      "Epoch 181/200\n",
      "27/27 - 0s - loss: 0.0101 - 346ms/epoch - 13ms/step\n",
      "Epoch 182/200\n",
      "27/27 - 0s - loss: 0.0102 - 339ms/epoch - 13ms/step\n",
      "Epoch 183/200\n",
      "27/27 - 0s - loss: 0.0102 - 350ms/epoch - 13ms/step\n",
      "Epoch 184/200\n",
      "27/27 - 0s - loss: 0.0102 - 338ms/epoch - 13ms/step\n",
      "Epoch 185/200\n",
      "27/27 - 0s - loss: 0.0102 - 343ms/epoch - 13ms/step\n",
      "Epoch 186/200\n",
      "27/27 - 0s - loss: 0.0102 - 341ms/epoch - 13ms/step\n",
      "Epoch 187/200\n",
      "27/27 - 0s - loss: 0.0102 - 364ms/epoch - 13ms/step\n",
      "Epoch 188/200\n",
      "27/27 - 1s - loss: 0.0102 - 611ms/epoch - 23ms/step\n",
      "Epoch 189/200\n",
      "27/27 - 0s - loss: 0.0102 - 347ms/epoch - 13ms/step\n",
      "Epoch 190/200\n",
      "27/27 - 0s - loss: 0.0102 - 359ms/epoch - 13ms/step\n",
      "Epoch 191/200\n",
      "27/27 - 0s - loss: 0.0103 - 426ms/epoch - 16ms/step\n",
      "Epoch 192/200\n",
      "27/27 - 0s - loss: 0.0102 - 409ms/epoch - 15ms/step\n",
      "Epoch 193/200\n",
      "27/27 - 0s - loss: 0.0102 - 330ms/epoch - 12ms/step\n",
      "Epoch 194/200\n",
      "27/27 - 0s - loss: 0.0102 - 349ms/epoch - 13ms/step\n",
      "Epoch 195/200\n",
      "27/27 - 0s - loss: 0.0102 - 342ms/epoch - 13ms/step\n",
      "Epoch 196/200\n",
      "27/27 - 0s - loss: 0.0102 - 403ms/epoch - 15ms/step\n",
      "Epoch 197/200\n",
      "27/27 - 0s - loss: 0.0102 - 354ms/epoch - 13ms/step\n",
      "Epoch 198/200\n",
      "27/27 - 0s - loss: 0.0102 - 388ms/epoch - 14ms/step\n",
      "Epoch 199/200\n",
      "27/27 - 0s - loss: 0.0102 - 364ms/epoch - 13ms/step\n",
      "Epoch 200/200\n",
      "27/27 - 0s - loss: 0.0102 - 380ms/epoch - 14ms/step\n",
      "Test Score: -0.01 CORRELACION\n"
     ]
    },
    {
     "data": {
      "text/plain": "<Figure size 432x288 with 1 Axes>",
      "image/png": "[encoded data removed]"
     },
     "metadata": {
      "needs_background": "light"
     },
     "output_type": "display_data"
    },
    {
     "data": {
      "text/plain": "<Figure size 432x288 with 1 Axes>",
      "image/png": "[encoded data removed]"
     },
     "metadata": {
      "needs_background": "light"
     },
     "output_type": "display_data"
    }
   ],
   "source": [
    "## EJECUCIÓN DE LA FUNCIÓN DE CONSTRUCCIÓN, ENTRENAMIENTO Y TEST DE LA RED\n",
    "model1, trainPredict1, testPredict1, scaler1, x, y = execute_lstm(unidades, date, look_back=17, neuronas=200, epocas=200, capas=6, training_split=0.7,optimizacion='adam', act='tanh')\n",
    "#"
   ]
  },
  {
   "cell_type": "code",
   "execution_count": 25,
   "metadata": {
    "id": "jy-DzlvOXsTX"
   },
   "outputs": [],
   "source": [
    "predict_data1 = pandas.read_csv('./data/test_series.csv')\n",
    "#scaler = MinMaxScaler(feature_range=(0, 1))\n",
    "#unidades1 = scaler.fit_transform(unidades)"
   ]
  },
  {
   "cell_type": "code",
   "execution_count": 26,
   "metadata": {
    "id": "eTqoDlxlXsTX"
   },
   "outputs": [],
   "source": [
    "predict_data1 = predict_data1.astype('float32')"
   ]
  },
  {
   "cell_type": "code",
   "execution_count": 27,
   "outputs": [
    {
     "data": {
      "text/plain": "      Year  Month  Date\n0   2021.0   12.0  16.0\n1   2021.0   12.0  17.0\n2   2021.0   12.0  20.0\n3   2021.0   12.0  21.0\n4   2021.0   12.0  22.0\n5   2021.0   12.0  23.0\n6   2021.0   12.0  24.0\n7   2021.0   12.0  27.0\n8   2021.0   12.0  28.0\n9   2021.0   12.0  29.0\n10  2021.0   12.0  30.0\n11  2021.0   12.0  31.0\n12  2022.0    1.0   3.0\n13  2022.0    1.0   4.0\n14  2022.0    1.0   5.0\n15  2022.0    1.0   6.0\n16  2022.0    1.0   7.0",
      "text/html": "<div>\n<style scoped>\n    .dataframe tbody tr th:only-of-type {\n        vertical-align: middle;\n    }\n\n    .dataframe tbody tr th {\n        vertical-align: top;\n    }\n\n    .dataframe thead th {\n        text-align: right;\n    }\n</style>\n<table border=\"1\" class=\"dataframe\">\n  <thead>\n    <tr style=\"text-align: right;\">\n      <th></th>\n      <th>Year</th>\n      <th>Month</th>\n      <th>Date</th>\n    </tr>\n  </thead>\n  <tbody>\n    <tr>\n      <th>0</th>\n      <td>2021.0</td>\n      <td>12.0</td>\n      <td>16.0</td>\n    </tr>\n    <tr>\n      <th>1</th>\n      <td>2021.0</td>\n      <td>12.0</td>\n      <td>17.0</td>\n    </tr>\n    <tr>\n      <th>2</th>\n      <td>2021.0</td>\n      <td>12.0</td>\n      <td>20.0</td>\n    </tr>\n    <tr>\n      <th>3</th>\n      <td>2021.0</td>\n      <td>12.0</td>\n      <td>21.0</td>\n    </tr>\n    <tr>\n      <th>4</th>\n      <td>2021.0</td>\n      <td>12.0</td>\n      <td>22.0</td>\n    </tr>\n    <tr>\n      <th>5</th>\n      <td>2021.0</td>\n      <td>12.0</td>\n      <td>23.0</td>\n    </tr>\n    <tr>\n      <th>6</th>\n      <td>2021.0</td>\n      <td>12.0</td>\n      <td>24.0</td>\n    </tr>\n    <tr>\n      <th>7</th>\n      <td>2021.0</td>\n      <td>12.0</td>\n      <td>27.0</td>\n    </tr>\n    <tr>\n      <th>8</th>\n      <td>2021.0</td>\n      <td>12.0</td>\n      <td>28.0</td>\n    </tr>\n    <tr>\n      <th>9</th>\n      <td>2021.0</td>\n      <td>12.0</td>\n      <td>29.0</td>\n    </tr>\n    <tr>\n      <th>10</th>\n      <td>2021.0</td>\n      <td>12.0</td>\n      <td>30.0</td>\n    </tr>\n    <tr>\n      <th>11</th>\n      <td>2021.0</td>\n      <td>12.0</td>\n      <td>31.0</td>\n    </tr>\n    <tr>\n      <th>12</th>\n      <td>2022.0</td>\n      <td>1.0</td>\n      <td>3.0</td>\n    </tr>\n    <tr>\n      <th>13</th>\n      <td>2022.0</td>\n      <td>1.0</td>\n      <td>4.0</td>\n    </tr>\n    <tr>\n      <th>14</th>\n      <td>2022.0</td>\n      <td>1.0</td>\n      <td>5.0</td>\n    </tr>\n    <tr>\n      <th>15</th>\n      <td>2022.0</td>\n      <td>1.0</td>\n      <td>6.0</td>\n    </tr>\n    <tr>\n      <th>16</th>\n      <td>2022.0</td>\n      <td>1.0</td>\n      <td>7.0</td>\n    </tr>\n  </tbody>\n</table>\n</div>"
     },
     "execution_count": 27,
     "metadata": {},
     "output_type": "execute_result"
    }
   ],
   "source": [
    "predict_data1"
   ],
   "metadata": {
    "collapsed": false,
    "pycharm": {
     "name": "#%%\n"
    }
   }
  },
  {
   "cell_type": "code",
   "execution_count": 41,
   "metadata": {
    "id": "_GGt6M9FXsTY"
   },
   "outputs": [],
   "source": [
    "#se define lookback igual al usado en modelo neuronal\n",
    "look_back1 = 17\n",
    "predict_data_lookback1, predict_data_tiempo_actual1  = create_dataset(predict_data1, look_back1)"
   ]
  },
  {
   "cell_type": "code",
   "execution_count": 44,
   "outputs": [
    {
     "data": {
      "text/plain": "0"
     },
     "execution_count": 44,
     "metadata": {},
     "output_type": "execute_result"
    }
   ],
   "source": [
    "predict_data_lookback1.shape[0]"
   ],
   "metadata": {
    "collapsed": false,
    "pycharm": {
     "name": "#%%\n"
    }
   }
  },
  {
   "cell_type": "code",
   "execution_count": 43,
   "outputs": [
    {
     "ename": "IndexError",
     "evalue": "tuple index out of range",
     "output_type": "error",
     "traceback": [
      "\u001B[0;31m---------------------------------------------------------------------------\u001B[0m",
      "\u001B[0;31mIndexError\u001B[0m                                Traceback (most recent call last)",
      "\u001B[0;32m/var/folders/ws/sp1qfps14rj2wpf5_71gh44m0000gn/T/ipykernel_863/2653211482.py\u001B[0m in \u001B[0;36m<module>\u001B[0;34m\u001B[0m\n\u001B[0;32m----> 1\u001B[0;31m \u001B[0;34m(\u001B[0m\u001B[0mpredict_data_lookback1\u001B[0m\u001B[0;34m.\u001B[0m\u001B[0mshape\u001B[0m\u001B[0;34m[\u001B[0m\u001B[0;36m0\u001B[0m\u001B[0;34m]\u001B[0m\u001B[0;34m,\u001B[0m \u001B[0;36m1\u001B[0m\u001B[0;34m,\u001B[0m \u001B[0mpredict_data_lookback1\u001B[0m\u001B[0;34m.\u001B[0m\u001B[0mshape\u001B[0m\u001B[0;34m[\u001B[0m\u001B[0;36m1\u001B[0m\u001B[0;34m]\u001B[0m\u001B[0;34m)\u001B[0m\u001B[0;34m\u001B[0m\u001B[0;34m\u001B[0m\u001B[0m\n\u001B[0m",
      "\u001B[0;31mIndexError\u001B[0m: tuple index out of range"
     ]
    }
   ],
   "source": [
    "(predict_data_lookback1.shape[0], 1, predict_data_lookback1.shape[1])"
   ],
   "metadata": {
    "collapsed": false,
    "pycharm": {
     "name": "#%%\n"
    }
   }
  },
  {
   "cell_type": "code",
   "execution_count": 42,
   "metadata": {
    "id": "Tm4bh4iXXsTY"
   },
   "outputs": [
    {
     "ename": "IndexError",
     "evalue": "tuple index out of range",
     "output_type": "error",
     "traceback": [
      "\u001B[0;31m---------------------------------------------------------------------------\u001B[0m",
      "\u001B[0;31mIndexError\u001B[0m                                Traceback (most recent call last)",
      "\u001B[0;32m/var/folders/ws/sp1qfps14rj2wpf5_71gh44m0000gn/T/ipykernel_863/3483350042.py\u001B[0m in \u001B[0;36m<module>\u001B[0;34m\u001B[0m\n\u001B[0;32m----> 1\u001B[0;31m \u001B[0mpredict_data_lookback1\u001B[0m \u001B[0;34m=\u001B[0m \u001B[0mnumpy\u001B[0m\u001B[0;34m.\u001B[0m\u001B[0mreshape\u001B[0m\u001B[0;34m(\u001B[0m\u001B[0mpredict_data_lookback1\u001B[0m\u001B[0;34m,\u001B[0m \u001B[0;34m(\u001B[0m\u001B[0mpredict_data_lookback1\u001B[0m\u001B[0;34m.\u001B[0m\u001B[0mshape\u001B[0m\u001B[0;34m[\u001B[0m\u001B[0;36m0\u001B[0m\u001B[0;34m]\u001B[0m\u001B[0;34m,\u001B[0m \u001B[0;36m1\u001B[0m\u001B[0;34m,\u001B[0m \u001B[0mpredict_data_lookback1\u001B[0m\u001B[0;34m.\u001B[0m\u001B[0mshape\u001B[0m\u001B[0;34m[\u001B[0m\u001B[0;36m1\u001B[0m\u001B[0;34m]\u001B[0m\u001B[0;34m)\u001B[0m\u001B[0;34m)\u001B[0m\u001B[0;34m\u001B[0m\u001B[0;34m\u001B[0m\u001B[0m\n\u001B[0m\u001B[1;32m      2\u001B[0m \u001B[0;31m#Predicción\u001B[0m\u001B[0;34m\u001B[0m\u001B[0;34m\u001B[0m\u001B[0;34m\u001B[0m\u001B[0m\n\u001B[1;32m      3\u001B[0m \u001B[0mpredict_model1\u001B[0m \u001B[0;34m=\u001B[0m \u001B[0mmodel1\u001B[0m\u001B[0;34m.\u001B[0m\u001B[0mpredict\u001B[0m\u001B[0;34m(\u001B[0m\u001B[0mpredict_data_lookback1\u001B[0m\u001B[0;34m)\u001B[0m\u001B[0;34m\u001B[0m\u001B[0;34m\u001B[0m\u001B[0m\n\u001B[1;32m      4\u001B[0m \u001B[0;34m\u001B[0m\u001B[0m\n\u001B[1;32m      5\u001B[0m \u001B[0;34m\u001B[0m\u001B[0m\n",
      "\u001B[0;31mIndexError\u001B[0m: tuple index out of range"
     ]
    }
   ],
   "source": [
    "predict_data_lookback1 = numpy.reshape(\n",
    "    predict_data_lookback1,\n",
    "    (predict_data_lookback1.shape[0], 1, predict_data_lookback1.shape[1])\n",
    ")\n",
    "#Predicción\n",
    "predict_model1 = model1.predict(predict_data_lookback1)\n",
    "\n"
   ]
  },
  {
   "cell_type": "code",
   "execution_count": 41,
   "metadata": {
    "id": "d6ugn-QGXsTY"
   },
   "outputs": [],
   "source": [
    "trainPredictPlot = numpy.empty_like(unidades)\n",
    "trainPredictPlot[:, :] = numpy.nan\n",
    "trainPredictPlot[look_back1:len(trainPredict1) + look_back1, :] = trainPredict1"
   ]
  },
  {
   "cell_type": "markdown",
   "source": [],
   "metadata": {
    "collapsed": false
   }
  },
  {
   "cell_type": "code",
   "execution_count": 42,
   "metadata": {
    "id": "H95sEUIjXsTZ"
   },
   "outputs": [],
   "source": [
    "testPredictPlot = numpy.empty_like(unidades)\n",
    "testPredictPlot[:, :] = numpy.nan\n",
    "testPredictPlot[len(trainPredict1) + (look_back1 * 2) - 1 :len(unidades) - 1, :] = testPredict1"
   ]
  },
  {
   "cell_type": "code",
   "execution_count": 43,
   "metadata": {
    "id": "w3Ct4FvjXsTZ",
    "outputId": "b2a54d3e-6ee8-487a-976f-42ff2451dbe3"
   },
   "outputs": [
    {
     "data": {
      "text/plain": "<Figure size 432x288 with 1 Axes>",
      "image/png": "[encoded data removed]"
     },
     "metadata": {
      "needs_background": "light"
     },
     "output_type": "display_data"
    }
   ],
   "source": [
    "plt.plot(unidades1)\n",
    "plt.plot(trainPredictPlot)\n",
    "plt.plot(testPredictPlot)\n",
    "plt.title(\"Primer Modelo LSTM escogido\")\n",
    "plt.ylabel(\"Unidades de Carne Vendidas\")\n",
    "plt.xlabel(\"Tiempo\")\n",
    "plt.show()"
   ]
  },
  {
   "cell_type": "code",
   "execution_count": null,
   "outputs": [],
   "source": [],
   "metadata": {
    "collapsed": false,
    "pycharm": {
     "name": "#%%\n"
    }
   }
  }
 ],
 "metadata": {
  "kernelspec": {
   "display_name": "Python 3",
   "language": "python",
   "name": "python3"
  },
  "language_info": {
   "codemirror_mode": {
    "name": "ipython",
    "version": 3
   },
   "file_extension": ".py",
   "mimetype": "text/x-python",
   "name": "python",
   "nbconvert_exporter": "python",
   "pygments_lexer": "ipython3",
   "version": "3.6.4"
  },
  "colab": {
   "name": "MEJOR_MODELO_LSTM.ipynb",
   "provenance": []
  }
 },
 "nbformat": 4,
 "nbformat_minor": 0
}